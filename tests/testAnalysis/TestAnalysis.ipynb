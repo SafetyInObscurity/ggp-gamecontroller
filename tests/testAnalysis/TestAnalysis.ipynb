{
 "cells": [
  {
   "cell_type": "markdown",
   "metadata": {},
   "source": [
    "# <center>Analysis of Tests</center>\n",
    "\n",
    "This file is an interactive notebook to analyze the data obtained from tests.\n",
    "\n",
    "First the data must be read in."
   ]
  },
  {
   "cell_type": "code",
   "execution_count": 1,
   "metadata": {},
   "outputs": [
    {
     "data": {
      "text/html": [
       "<div>\n",
       "<style scoped>\n",
       "    .dataframe tbody tr th:only-of-type {\n",
       "        vertical-align: middle;\n",
       "    }\n",
       "\n",
       "    .dataframe tbody tr th {\n",
       "        vertical-align: top;\n",
       "    }\n",
       "\n",
       "    .dataframe thead th {\n",
       "        text-align: right;\n",
       "    }\n",
       "</style>\n",
       "<table border=\"1\" class=\"dataframe\">\n",
       "  <thead>\n",
       "    <tr style=\"text-align: right;\">\n",
       "      <th></th>\n",
       "      <th>match_id</th>\n",
       "      <th>game_name</th>\n",
       "      <th>gdl_version</th>\n",
       "      <th>timestamp</th>\n",
       "      <th>startclock</th>\n",
       "      <th>sight_of</th>\n",
       "      <th>num_steps</th>\n",
       "      <th>role_1</th>\n",
       "      <th>player_1</th>\n",
       "      <th>player_1_score</th>\n",
       "      <th>role_2</th>\n",
       "      <th>player_2</th>\n",
       "      <th>player_2_score</th>\n",
       "    </tr>\n",
       "  </thead>\n",
       "  <tbody>\n",
       "    <tr>\n",
       "      <th>0</th>\n",
       "      <td>randomhyper_0</td>\n",
       "      <td>montyhall</td>\n",
       "      <td>2</td>\n",
       "      <td>1590033080572</td>\n",
       "      <td>10</td>\n",
       "      <td>CANDIDATE</td>\n",
       "      <td>3</td>\n",
       "      <td>candidate</td>\n",
       "      <td>HYPER</td>\n",
       "      <td>0</td>\n",
       "      <td>random</td>\n",
       "      <td>RANDOM</td>\n",
       "      <td>100</td>\n",
       "    </tr>\n",
       "    <tr>\n",
       "      <th>1</th>\n",
       "      <td>randomhyper_1</td>\n",
       "      <td>montyhall</td>\n",
       "      <td>2</td>\n",
       "      <td>1590033082432</td>\n",
       "      <td>10</td>\n",
       "      <td>CANDIDATE</td>\n",
       "      <td>3</td>\n",
       "      <td>candidate</td>\n",
       "      <td>HYPER</td>\n",
       "      <td>100</td>\n",
       "      <td>random</td>\n",
       "      <td>RANDOM</td>\n",
       "      <td>100</td>\n",
       "    </tr>\n",
       "    <tr>\n",
       "      <th>2</th>\n",
       "      <td>randomhyper_2</td>\n",
       "      <td>montyhall</td>\n",
       "      <td>2</td>\n",
       "      <td>1590033084302</td>\n",
       "      <td>10</td>\n",
       "      <td>CANDIDATE</td>\n",
       "      <td>3</td>\n",
       "      <td>candidate</td>\n",
       "      <td>HYPER</td>\n",
       "      <td>0</td>\n",
       "      <td>random</td>\n",
       "      <td>RANDOM</td>\n",
       "      <td>100</td>\n",
       "    </tr>\n",
       "    <tr>\n",
       "      <th>3</th>\n",
       "      <td>randomhyper_3</td>\n",
       "      <td>montyhall</td>\n",
       "      <td>2</td>\n",
       "      <td>1590033086182</td>\n",
       "      <td>10</td>\n",
       "      <td>CANDIDATE</td>\n",
       "      <td>3</td>\n",
       "      <td>candidate</td>\n",
       "      <td>HYPER</td>\n",
       "      <td>100</td>\n",
       "      <td>random</td>\n",
       "      <td>RANDOM</td>\n",
       "      <td>100</td>\n",
       "    </tr>\n",
       "    <tr>\n",
       "      <th>4</th>\n",
       "      <td>randomhyper_4</td>\n",
       "      <td>montyhall</td>\n",
       "      <td>2</td>\n",
       "      <td>1590033088132</td>\n",
       "      <td>10</td>\n",
       "      <td>CANDIDATE</td>\n",
       "      <td>3</td>\n",
       "      <td>candidate</td>\n",
       "      <td>HYPER</td>\n",
       "      <td>100</td>\n",
       "      <td>random</td>\n",
       "      <td>RANDOM</td>\n",
       "      <td>100</td>\n",
       "    </tr>\n",
       "  </tbody>\n",
       "</table>\n",
       "</div>"
      ],
      "text/plain": [
       "        match_id  game_name  gdl_version      timestamp  startclock  \\\n",
       "0  randomhyper_0  montyhall            2  1590033080572          10   \n",
       "1  randomhyper_1  montyhall            2  1590033082432          10   \n",
       "2  randomhyper_2  montyhall            2  1590033084302          10   \n",
       "3  randomhyper_3  montyhall            2  1590033086182          10   \n",
       "4  randomhyper_4  montyhall            2  1590033088132          10   \n",
       "\n",
       "    sight_of  num_steps     role_1 player_1  player_1_score  role_2 player_2  \\\n",
       "0  CANDIDATE          3  candidate    HYPER               0  random   RANDOM   \n",
       "1  CANDIDATE          3  candidate    HYPER             100  random   RANDOM   \n",
       "2  CANDIDATE          3  candidate    HYPER               0  random   RANDOM   \n",
       "3  CANDIDATE          3  candidate    HYPER             100  random   RANDOM   \n",
       "4  CANDIDATE          3  candidate    HYPER             100  random   RANDOM   \n",
       "\n",
       "   player_2_score  \n",
       "0             100  \n",
       "1             100  \n",
       "2             100  \n",
       "3             100  \n",
       "4             100  "
      ]
     },
     "execution_count": 1,
     "metadata": {},
     "output_type": "execute_result"
    }
   ],
   "source": [
    "import pandas as pd\n",
    "import matplotlib.pyplot as plt\n",
    "import numpy as np\n",
    "np.random.seed(42)\n",
    "\n",
    "# Read in the csv files\n",
    "file_name = 'testOutput/testOutput_1590035296.csv'\n",
    "data = pd.read_csv(file_name, header=0)\n",
    "\n",
    "# Print the first 5 rows of the data\n",
    "data.head()"
   ]
  },
  {
   "cell_type": "markdown",
   "metadata": {},
   "source": [
    "Next, the average score of player 1 should be should be calculated."
   ]
  },
  {
   "cell_type": "code",
   "execution_count": 2,
   "metadata": {},
   "outputs": [
    {
     "name": "stdout",
     "output_type": "stream",
     "text": [
      "The win rate for the agent \"HYPER\" playing the game \"montyhall\" is 65.3% for 1000 games\n"
     ]
    }
   ],
   "source": [
    "total_score = data['player_1_score'].sum(skipna = True)\n",
    "total_count = data['player_1_score'].count()\n",
    "\n",
    "print(\"The win rate for the agent \\\"\" + str(data['player_1'][0]) + \"\\\" playing the game \\\"\" + str(data['game_name'][0]) + \"\\\" is \" + str(total_score/total_count) + \"% for \" + str(total_count) + \" games\")"
   ]
  },
  {
   "cell_type": "code",
   "execution_count": null,
   "metadata": {},
   "outputs": [],
   "source": []
  }
 ],
 "metadata": {
  "kernelspec": {
   "display_name": "Python 3",
   "language": "python",
   "name": "python3"
  },
  "language_info": {
   "codemirror_mode": {
    "name": "ipython",
    "version": 3
   },
   "file_extension": ".py",
   "mimetype": "text/x-python",
   "name": "python",
   "nbconvert_exporter": "python",
   "pygments_lexer": "ipython3",
   "version": "3.7.3"
  }
 },
 "nbformat": 4,
 "nbformat_minor": 2
}
