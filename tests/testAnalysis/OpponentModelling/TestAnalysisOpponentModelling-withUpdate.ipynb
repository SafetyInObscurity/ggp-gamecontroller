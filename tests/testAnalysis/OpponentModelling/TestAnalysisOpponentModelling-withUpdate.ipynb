{
 "cells": [
  {
   "cell_type": "markdown",
   "metadata": {},
   "source": [
    "# <center>Analysis of How Adding Opponent Modelling Compares to a Basic Hyperplayer</center>\n",
    "\n",
    "This file is an interactive notebook to analyze the data obtained from tests.<br>\n",
    "The opponent modelling agent is a variant on the basic hyperplayer that uses MCS to determine the relative quality of each possible move and expanding the hypergame set by selecting moves that the opponent is more likely to make from a given state.\n",
    "\n",
    "This variant updates the state to better handle the 0 case\n",
    "\n",
    "I will be using kriegTTT_4x4 because this is a more complex game. \n",
    "\n",
    "Hyperplayer Params:<br>\n",
    "numHyperGames = 16<br>\n",
    "numHyperBranches = 4<br>\n",
    "numProbes = 4\n",
    "\n",
    "OP Hyperplayer_64 Params:<br>\n",
    "numHyperGames = 16<br>\n",
    "numHyperBranches = 4<br>\n",
    "numOPprobes = 32<br>\n",
    "numProbes = 16\n",
    "\n",
    "## Reading in the Data\n",
    "\n",
    "First the match data must be read in."
   ]
  },
  {
   "cell_type": "code",
   "execution_count": 5,
   "metadata": {},
   "outputs": [
    {
     "data": {
      "text/html": [
       "<div>\n",
       "<style scoped>\n",
       "    .dataframe tbody tr th:only-of-type {\n",
       "        vertical-align: middle;\n",
       "    }\n",
       "\n",
       "    .dataframe tbody tr th {\n",
       "        vertical-align: top;\n",
       "    }\n",
       "\n",
       "    .dataframe thead th {\n",
       "        text-align: right;\n",
       "    }\n",
       "</style>\n",
       "<table border=\"1\" class=\"dataframe\">\n",
       "  <thead>\n",
       "    <tr style=\"text-align: right;\">\n",
       "      <th></th>\n",
       "      <th>match_id</th>\n",
       "      <th>game_name</th>\n",
       "      <th>gdl_version</th>\n",
       "      <th>timestamp</th>\n",
       "      <th>startclock</th>\n",
       "      <th>playclock</th>\n",
       "      <th>sight_of</th>\n",
       "      <th>num_steps</th>\n",
       "      <th>role_1</th>\n",
       "      <th>player_1</th>\n",
       "      <th>player_1_score</th>\n",
       "      <th>role_2</th>\n",
       "      <th>player_2</th>\n",
       "      <th>player_2_score</th>\n",
       "    </tr>\n",
       "  </thead>\n",
       "  <tbody>\n",
       "    <tr>\n",
       "      <th>0</th>\n",
       "      <td>4x4_ophyperb_ahyper_32OPprobes_with0update_0</td>\n",
       "      <td>kriegTTT_4x4</td>\n",
       "      <td>2</td>\n",
       "      <td>1595149718576</td>\n",
       "      <td>10</td>\n",
       "      <td>300</td>\n",
       "      <td>XPLAYER</td>\n",
       "      <td>3</td>\n",
       "      <td>xplayer</td>\n",
       "      <td>OPHYPERB</td>\n",
       "      <td>100</td>\n",
       "      <td>oplayer</td>\n",
       "      <td>AHYPER</td>\n",
       "      <td>100</td>\n",
       "    </tr>\n",
       "    <tr>\n",
       "      <th>1</th>\n",
       "      <td>4x4_ophyperb_ahyper_32OPprobes_with0update_1</td>\n",
       "      <td>kriegTTT_4x4</td>\n",
       "      <td>2</td>\n",
       "      <td>1595149753846</td>\n",
       "      <td>10</td>\n",
       "      <td>300</td>\n",
       "      <td>XPLAYER</td>\n",
       "      <td>3</td>\n",
       "      <td>xplayer</td>\n",
       "      <td>OPHYPERB</td>\n",
       "      <td>100</td>\n",
       "      <td>oplayer</td>\n",
       "      <td>AHYPER</td>\n",
       "      <td>0</td>\n",
       "    </tr>\n",
       "    <tr>\n",
       "      <th>2</th>\n",
       "      <td>4x4_ophyperb_ahyper_32OPprobes_with0update_2</td>\n",
       "      <td>kriegTTT_4x4</td>\n",
       "      <td>2</td>\n",
       "      <td>1595149784366</td>\n",
       "      <td>10</td>\n",
       "      <td>300</td>\n",
       "      <td>XPLAYER</td>\n",
       "      <td>3</td>\n",
       "      <td>xplayer</td>\n",
       "      <td>OPHYPERB</td>\n",
       "      <td>100</td>\n",
       "      <td>oplayer</td>\n",
       "      <td>AHYPER</td>\n",
       "      <td>0</td>\n",
       "    </tr>\n",
       "    <tr>\n",
       "      <th>3</th>\n",
       "      <td>4x4_ophyperb_ahyper_32OPprobes_with0update_3</td>\n",
       "      <td>kriegTTT_4x4</td>\n",
       "      <td>2</td>\n",
       "      <td>1595149816756</td>\n",
       "      <td>10</td>\n",
       "      <td>300</td>\n",
       "      <td>XPLAYER</td>\n",
       "      <td>3</td>\n",
       "      <td>xplayer</td>\n",
       "      <td>OPHYPERB</td>\n",
       "      <td>100</td>\n",
       "      <td>oplayer</td>\n",
       "      <td>AHYPER</td>\n",
       "      <td>100</td>\n",
       "    </tr>\n",
       "    <tr>\n",
       "      <th>4</th>\n",
       "      <td>4x4_ophyperb_ahyper_32OPprobes_with0update_4</td>\n",
       "      <td>kriegTTT_4x4</td>\n",
       "      <td>2</td>\n",
       "      <td>1595149850806</td>\n",
       "      <td>10</td>\n",
       "      <td>300</td>\n",
       "      <td>XPLAYER</td>\n",
       "      <td>3</td>\n",
       "      <td>xplayer</td>\n",
       "      <td>OPHYPERB</td>\n",
       "      <td>100</td>\n",
       "      <td>oplayer</td>\n",
       "      <td>AHYPER</td>\n",
       "      <td>100</td>\n",
       "    </tr>\n",
       "  </tbody>\n",
       "</table>\n",
       "</div>"
      ],
      "text/plain": [
       "                                       match_id     game_name  gdl_version  \\\n",
       "0  4x4_ophyperb_ahyper_32OPprobes_with0update_0  kriegTTT_4x4            2   \n",
       "1  4x4_ophyperb_ahyper_32OPprobes_with0update_1  kriegTTT_4x4            2   \n",
       "2  4x4_ophyperb_ahyper_32OPprobes_with0update_2  kriegTTT_4x4            2   \n",
       "3  4x4_ophyperb_ahyper_32OPprobes_with0update_3  kriegTTT_4x4            2   \n",
       "4  4x4_ophyperb_ahyper_32OPprobes_with0update_4  kriegTTT_4x4            2   \n",
       "\n",
       "       timestamp  startclock  playclock sight_of  num_steps   role_1  \\\n",
       "0  1595149718576          10        300  XPLAYER          3  xplayer   \n",
       "1  1595149753846          10        300  XPLAYER          3  xplayer   \n",
       "2  1595149784366          10        300  XPLAYER          3  xplayer   \n",
       "3  1595149816756          10        300  XPLAYER          3  xplayer   \n",
       "4  1595149850806          10        300  XPLAYER          3  xplayer   \n",
       "\n",
       "   player_1  player_1_score   role_2 player_2  player_2_score  \n",
       "0  OPHYPERB             100  oplayer   AHYPER             100  \n",
       "1  OPHYPERB             100  oplayer   AHYPER               0  \n",
       "2  OPHYPERB             100  oplayer   AHYPER               0  \n",
       "3  OPHYPERB             100  oplayer   AHYPER             100  \n",
       "4  OPHYPERB             100  oplayer   AHYPER             100  "
      ]
     },
     "metadata": {},
     "output_type": "display_data"
    }
   ],
   "source": [
    "import pandas as pd\n",
    "import matplotlib.pyplot as plt\n",
    "import numpy as np\n",
    "import math\n",
    "import statistics\n",
    "np.random.seed(42)\n",
    "\n",
    "# Read in the csv files\n",
    "numNames = ['ophyperb_wupdate']\n",
    "data = list()\n",
    "\n",
    "for idx, name in enumerate(numNames):\n",
    "    file_name = '../testOutput/kriegTTT_4x4/' + name + '/testOutput.csv'\n",
    "    data.append(pd.DataFrame)\n",
    "    data[idx] = pd.read_csv(file_name, header=0)\n",
    "\n",
    "# Print the first 5 rows of the data\n",
    "for game in data:\n",
    "    display(game.head())"
   ]
  },
  {
   "cell_type": "markdown",
   "metadata": {},
   "source": [
    "Next, the move data should be read in for each match\n",
    "\n",
    "*Note: time_to_update and time_to_select_move are in milliseconds*"
   ]
  },
  {
   "cell_type": "code",
   "execution_count": 6,
   "metadata": {},
   "outputs": [
    {
     "data": {
      "text/html": [
       "<div>\n",
       "<style scoped>\n",
       "    .dataframe tbody tr th:only-of-type {\n",
       "        vertical-align: middle;\n",
       "    }\n",
       "\n",
       "    .dataframe tbody tr th {\n",
       "        vertical-align: top;\n",
       "    }\n",
       "\n",
       "    .dataframe thead th {\n",
       "        text-align: right;\n",
       "    }\n",
       "</style>\n",
       "<table border=\"1\" class=\"dataframe\">\n",
       "  <thead>\n",
       "    <tr style=\"text-align: right;\">\n",
       "      <th></th>\n",
       "      <th>match_id</th>\n",
       "      <th>game_name</th>\n",
       "      <th>step</th>\n",
       "      <th>role_name</th>\n",
       "      <th>player_name</th>\n",
       "      <th>count_hypergames</th>\n",
       "      <th>num_probes</th>\n",
       "      <th>time_to_update</th>\n",
       "      <th>time_to_select_move</th>\n",
       "      <th>move_chosen</th>\n",
       "    </tr>\n",
       "  </thead>\n",
       "  <tbody>\n",
       "    <tr>\n",
       "      <th>0</th>\n",
       "      <td>match_id</td>\n",
       "      <td>game_name</td>\n",
       "      <td>step</td>\n",
       "      <td>role_name</td>\n",
       "      <td>player_name</td>\n",
       "      <td>count_hypergames</td>\n",
       "      <td>num_probes</td>\n",
       "      <td>time_to_update</td>\n",
       "      <td>time_to_select_move</td>\n",
       "      <td>move_chosen</td>\n",
       "    </tr>\n",
       "    <tr>\n",
       "      <th>1</th>\n",
       "      <td>4x4_ophyperb_ahyper_32OPprobes_with0update_0</td>\n",
       "      <td>kriegTTT_4x4</td>\n",
       "      <td>0</td>\n",
       "      <td>OPLAYER</td>\n",
       "      <td>ahyper</td>\n",
       "      <td>1</td>\n",
       "      <td>16</td>\n",
       "      <td>0</td>\n",
       "      <td>2052</td>\n",
       "      <td>(MARK 1 2 )</td>\n",
       "    </tr>\n",
       "    <tr>\n",
       "      <th>2</th>\n",
       "      <td>4x4_ophyperb_ahyper_32OPprobes_with0update_0</td>\n",
       "      <td>kriegTTT_4x4</td>\n",
       "      <td>0</td>\n",
       "      <td>XPLAYER</td>\n",
       "      <td>ophyperb</td>\n",
       "      <td>1</td>\n",
       "      <td>16</td>\n",
       "      <td>0</td>\n",
       "      <td>2080</td>\n",
       "      <td>(MARK 4 2 )</td>\n",
       "    </tr>\n",
       "    <tr>\n",
       "      <th>3</th>\n",
       "      <td>4x4_ophyperb_ahyper_32OPprobes_with0update_0</td>\n",
       "      <td>kriegTTT_4x4</td>\n",
       "      <td>1</td>\n",
       "      <td>OPLAYER</td>\n",
       "      <td>ahyper</td>\n",
       "      <td>4</td>\n",
       "      <td>16</td>\n",
       "      <td>0</td>\n",
       "      <td>5160</td>\n",
       "      <td>(MARK 1 3 )</td>\n",
       "    </tr>\n",
       "    <tr>\n",
       "      <th>4</th>\n",
       "      <td>4x4_ophyperb_ahyper_32OPprobes_with0update_0</td>\n",
       "      <td>kriegTTT_4x4</td>\n",
       "      <td>1</td>\n",
       "      <td>XPLAYER</td>\n",
       "      <td>ophyperb</td>\n",
       "      <td>4</td>\n",
       "      <td>16</td>\n",
       "      <td>3460</td>\n",
       "      <td>4630</td>\n",
       "      <td>(MARK 4 3 )</td>\n",
       "    </tr>\n",
       "    <tr>\n",
       "      <th>5</th>\n",
       "      <td>4x4_ophyperb_ahyper_32OPprobes_with0update_0</td>\n",
       "      <td>kriegTTT_4x4</td>\n",
       "      <td>2</td>\n",
       "      <td>OPLAYER</td>\n",
       "      <td>ahyper</td>\n",
       "      <td>16</td>\n",
       "      <td>16</td>\n",
       "      <td>10</td>\n",
       "      <td>12610</td>\n",
       "      <td>(MARK 1 4 )</td>\n",
       "    </tr>\n",
       "    <tr>\n",
       "      <th>6</th>\n",
       "      <td>4x4_ophyperb_ahyper_32OPprobes_with0update_0</td>\n",
       "      <td>kriegTTT_4x4</td>\n",
       "      <td>2</td>\n",
       "      <td>XPLAYER</td>\n",
       "      <td>ophyperb</td>\n",
       "      <td>16</td>\n",
       "      <td>16</td>\n",
       "      <td>10700</td>\n",
       "      <td>10340</td>\n",
       "      <td>(MARK 4 4 )</td>\n",
       "    </tr>\n",
       "  </tbody>\n",
       "</table>\n",
       "</div>"
      ],
      "text/plain": [
       "                                       match_id     game_name  step  \\\n",
       "0                                      match_id     game_name  step   \n",
       "1  4x4_ophyperb_ahyper_32OPprobes_with0update_0  kriegTTT_4x4     0   \n",
       "2  4x4_ophyperb_ahyper_32OPprobes_with0update_0  kriegTTT_4x4     0   \n",
       "3  4x4_ophyperb_ahyper_32OPprobes_with0update_0  kriegTTT_4x4     1   \n",
       "4  4x4_ophyperb_ahyper_32OPprobes_with0update_0  kriegTTT_4x4     1   \n",
       "5  4x4_ophyperb_ahyper_32OPprobes_with0update_0  kriegTTT_4x4     2   \n",
       "6  4x4_ophyperb_ahyper_32OPprobes_with0update_0  kriegTTT_4x4     2   \n",
       "\n",
       "   role_name  player_name  count_hypergames  num_probes  time_to_update  \\\n",
       "0  role_name  player_name  count_hypergames  num_probes  time_to_update   \n",
       "1    OPLAYER       ahyper                 1          16               0   \n",
       "2    XPLAYER     ophyperb                 1          16               0   \n",
       "3    OPLAYER       ahyper                 4          16               0   \n",
       "4    XPLAYER     ophyperb                 4          16            3460   \n",
       "5    OPLAYER       ahyper                16          16              10   \n",
       "6    XPLAYER     ophyperb                16          16           10700   \n",
       "\n",
       "   time_to_select_move  move_chosen  \n",
       "0  time_to_select_move  move_chosen  \n",
       "1                 2052  (MARK 1 2 )  \n",
       "2                 2080  (MARK 4 2 )  \n",
       "3                 5160  (MARK 1 3 )  \n",
       "4                 4630  (MARK 4 3 )  \n",
       "5                12610  (MARK 1 4 )  \n",
       "6                10340  (MARK 4 4 )  "
      ]
     },
     "metadata": {},
     "output_type": "display_data"
    }
   ],
   "source": [
    "move_list_games = list()\n",
    "for idx, name in enumerate(numNames):\n",
    "    file_name_prefix = '../testOutput/kriegTTT_4x4/' + name + '/moveset/'\n",
    "    temp_move_list = list()\n",
    "    for match_name in data[idx]['match_id']:\n",
    "        file_name = file_name_prefix + match_name + '.csv'\n",
    "        if name != 'BasicTest':\n",
    "            temp_move_list.append(pd.read_csv(file_name, names=['match_id','game_name','step','role_name','player_name','count_hypergames','num_probes','time_to_update','time_to_select_move','move_chosen']))\n",
    "        else :\n",
    "            temp_move_list.append(pd.read_csv(file_name, header=0))\n",
    "    move_list_games.append(temp_move_list)\n",
    "\n",
    "# Verify by printing the head of the first game\n",
    "for move_list in move_list_games:\n",
    "    display(move_list[0])"
   ]
  },
  {
   "cell_type": "markdown",
   "metadata": {},
   "source": [
    "## Analysis of Data\n",
    "\n",
    "### Overall Agent Results\n",
    "\n",
    "The average score of the agent will be calculated across all games"
   ]
  },
  {
   "cell_type": "code",
   "execution_count": 7,
   "metadata": {},
   "outputs": [
    {
     "name": "stdout",
     "output_type": "stream",
     "text": [
      "The win/draw rate for the agent \"OPHYPERB\" playing the game \"kriegTTT_4x4\" with ophyperb_wupdate probes is 75.00% for 100 games\n"
     ]
    },
    {
     "data": {
      "image/png": "[encoded data removed]",
      "text/plain": [
       "<Figure size 432x288 with 1 Axes>"
      ]
     },
     "metadata": {},
     "output_type": "display_data"
    }
   ],
   "source": [
    "count_games_completed = list()\n",
    "for idx, game in enumerate(data):\n",
    "    total_score = data[idx]['player_1_score'][data[idx]['player_1_score'] >= 50].count() * 100\n",
    "    total_count = len(data[idx]['player_1_score'])\n",
    "    count_games_completed.append(total_count)\n",
    "    print(f\"The win/draw rate for the agent \\\"\" + str(data[idx]['player_1'][0]) + \"\\\" playing the game \\\"\" + str(data[idx]['game_name'][0]) + \"\\\" with \" + str(numNames[idx]) + f\" probes is {(total_score/total_count):.2f}% for \" + str(total_count) + \" games\")\n",
    "\n",
    "# Display a pie chart\n",
    "fig = plt.figure()\n",
    "data_len = len(data)\n",
    "win_count = list()\n",
    "for idx, game in enumerate(data):\n",
    "    ax = fig.add_axes([(data_len - idx)%2,math.ceil((data_len - idx)/2),1,1])\n",
    "    ax.axis('equal')\n",
    "    ax.set_title('Win rate for ' + str(numNames[idx]))\n",
    "    result = ['Won', 'Lost', 'Drew']\n",
    "    game_count = [len(game[(game['player_1_score'] == 100) & (game['player_2_score'] == 0)]), len(game[(game['player_1_score'] == 0) & (game['player_2_score'] == 100)]), len(game[(game['player_1_score'] == 100) & (game['player_2_score'] == 100)| (game['player_1_score'] == 50) & (game['player_2_score'] == 50)])]\n",
    "    win_count.append(game_count[0])\n",
    "    ax.pie(game_count, labels = result,autopct='%1.1f%%')\n",
    "plt.show()"
   ]
  },
  {
   "cell_type": "markdown",
   "metadata": {},
   "source": [
    "It is now worth looking into how performance degrades with fewer probes.\n",
    "\n",
    "First I will consider the number of games that can be completed without error compared to the number of probes."
   ]
  },
  {
   "cell_type": "code",
   "execution_count": 8,
   "metadata": {},
   "outputs": [
    {
     "data": {
      "image/png": "[encoded data removed]",
      "text/plain": [
       "<Figure size 432x288 with 1 Axes>"
      ]
     },
     "metadata": {
      "needs_background": "light"
     },
     "output_type": "display_data"
    }
   ],
   "source": [
    "fig = plt.figure()\n",
    "ax1 = fig.add_axes([0,0,2,2], label='state_update')\n",
    "ax1.set_title('Number of Games Completed')\n",
    "ax1.set_xlabel('Agent')\n",
    "ax1.set_ylabel('Games Completed')\n",
    "ax1.set_yscale('linear')\n",
    "ax1.set_ylim([0,50])\n",
    "ax1.bar(numNames, count_games_completed)\n",
    "plt.show()"
   ]
  },
  {
   "cell_type": "markdown",
   "metadata": {},
   "source": [
    "I will now consider whether the number of games won"
   ]
  },
  {
   "cell_type": "code",
   "execution_count": 9,
   "metadata": {},
   "outputs": [
    {
     "data": {
      "image/png": "[encoded data removed]",
      "text/plain": [
       "<Figure size 432x288 with 1 Axes>"
      ]
     },
     "metadata": {
      "needs_background": "light"
     },
     "output_type": "display_data"
    }
   ],
   "source": [
    "fig = plt.figure()\n",
    "ax1 = fig.add_axes([0,0,2,2])\n",
    "ax1.set_title('Proportion of Games Won that were Completed')\n",
    "ax1.set_xlabel('Agent')\n",
    "ax1.set_ylabel('Games Won')\n",
    "ax1.set_yscale('linear')\n",
    "ax1.set_yticks(range(0,2,1))\n",
    "ax1.set_ylim([0,1])\n",
    "ax1.bar(numNames, np.divide(win_count,count_games_completed))\n",
    "plt.show()"
   ]
  },
  {
   "cell_type": "markdown",
   "metadata": {},
   "source": [
    "I will now consider the games that were not completed as losses and see how this affects the final score"
   ]
  },
  {
   "cell_type": "code",
   "execution_count": 10,
   "metadata": {},
   "outputs": [
    {
     "name": "stdout",
     "output_type": "stream",
     "text": [
      "The win/draw rate for the agent \"OPHYPERB\" playing the game \"kriegTTT_4x4\" with ophyperb_wupdate probes is 150.00% for 50 games\n"
     ]
    },
    {
     "data": {
      "image/png": "[encoded data removed]",
      "text/plain": [
       "<Figure size 432x288 with 1 Axes>"
      ]
     },
     "metadata": {},
     "output_type": "display_data"
    }
   ],
   "source": [
    "count_games_completed = list()\n",
    "for idx, game in enumerate(data):\n",
    "    total_score = data[idx]['player_1_score'][data[idx]['player_1_score'] >= 50].count() * 100\n",
    "    total_count = 50\n",
    "    count_games_completed.append(total_count)\n",
    "    print(f\"The win/draw rate for the agent \\\"\" + str(data[idx]['player_1'][0]) + \"\\\" playing the game \\\"\" + str(data[idx]['game_name'][0]) + \"\\\" with \" + str(numNames[idx]) + f\" probes is {(total_score/total_count):.2f}% for \" + str(total_count) + \" games\")\n",
    "\n",
    "# Display a pie chart\n",
    "fig = plt.figure()\n",
    "data_len = len(data)\n",
    "win_count = list()\n",
    "for idx, game in enumerate(data):\n",
    "    ax = fig.add_axes([(data_len - idx)%2,math.ceil((data_len - idx)/2),1,1])\n",
    "    ax.axis('equal')\n",
    "    ax.set_title('Win rate for ' + str(numNames[idx]))\n",
    "    result = ['Won', 'Lost', 'Drew']\n",
    "    if data[idx]['player_1'][0] == 'HYPER':\n",
    "        game_count = [(len(game[(game['player_1_score'] == 100) & (game['player_2_score'] == 0)])), (len(game[(game['player_1_score'] == 0) & (game['player_2_score'] == 100)])) + 15, (len(game[(game['player_1_score'] == 100) & (game['player_2_score'] == 100)]))]\n",
    "    else:\n",
    "        game_count = [len(game[(game['player_1_score'] == 100) & (game['player_2_score'] == 0)]), len(game[(game['player_1_score'] == 0) & (game['player_2_score'] == 100)]), len(game[(game['player_1_score'] == 100) & (game['player_2_score'] == 100) | (game['player_1_score'] == 50) & (game['player_2_score'] == 50)])]\n",
    "    win_count.append(game_count[0])\n",
    "    ax.pie(game_count, labels = result,autopct='%1.1f%%')\n",
    "plt.show()"
   ]
  },
  {
   "cell_type": "code",
   "execution_count": null,
   "metadata": {},
   "outputs": [],
   "source": []
  }
 ],
 "metadata": {
  "kernelspec": {
   "display_name": "Python 3",
   "language": "python",
   "name": "python3"
  },
  "language_info": {
   "codemirror_mode": {
    "name": "ipython",
    "version": 3
   },
   "file_extension": ".py",
   "mimetype": "text/x-python",
   "name": "python",
   "nbconvert_exporter": "python",
   "pygments_lexer": "ipython3",
   "version": "3.7.3"
  }
 },
 "nbformat": 4,
 "nbformat_minor": 2
}
